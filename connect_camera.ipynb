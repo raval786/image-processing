{
 "cells": [
  {
   "cell_type": "code",
   "execution_count": 1,
   "metadata": {},
   "outputs": [],
   "source": [
    "import cv2\n",
    "\n",
    "cap = cv2.VideoCapture(0) # 0 is grab our default camera\n",
    "\n",
    "width = int(cap.get(cv2.CAP_PROP_FRAME_WIDTH))  # cap.get(cv2.CAP_PROP_FRAME_WIDTH) THEN IT GIVES FLOATING VALUE SUPPOSE WE CAPTURE 1080P VEDIO SO WE GET 1080.0 SO WE HAVE TO PUT UNDER THE int(cap.get(cv2.CAP_PROP_FRAME_WIDTH))\n",
    "height = int(cap.get(cv2.CAP_PROP_FRAME_HEIGHT)) # CAP_PROP is capture property\n",
    "\n",
    "# FourCC is a 4-byte code used to specify the video codec\n",
    "# In Fedora: DIVX, XVID, MJPG, X264, WMV1, WMV2. (XVID is more preferable. MJPG results in high size video. X264 gives very small size video)\n",
    "# In Windows: DIVX (More to be tested and added)\n",
    "# we can also capture video by framcount with cv2.CAP_PROP_FRAME_COUNT\n",
    "writer = cv2.VideoWriter('raval.mp4',cv2.VideoWriter_fourcc(*'DIVX'),20,(width,height)) # 20 is the frame rate\n",
    "\n",
    "while True:\n",
    "    \n",
    "    ret,frame = cap.read()  #  ret,frame this is known as tupple and packing. it returns the tuples so we can get with ret.\n",
    "    # ret,frame read the frame and return back to tuple\n",
    "    \n",
    "    # if we want gray scale\n",
    "    #gray = cv2.cvtColor(frame,cv2.COLOR_BGR2RGB) \n",
    "    \n",
    "    # OPERATIONS\n",
    "    writer.write(frame) # it captures the frame by frame then add it to it.\n",
    "    \n",
    "    cv2.imshow('frame',frame) # if we want gray scale instead of frame we can write gray cv2.imshow('frame',gray)\n",
    "    \n",
    "    if cv2.waitKey(1) & 0xFF == ord('q'):  #  cv2.waitKey(1) is wait for 1 mili second.  0xFF == ord('q') is to press q to exit.0xFF is also known as esc key\n",
    "        break\n",
    "        \n",
    "cap.release()\n",
    "writer.release()\n",
    "cv2.destroyAllWindows()"
   ]
  },
  {
   "cell_type": "code",
   "execution_count": 11,
   "metadata": {},
   "outputs": [
    {
     "data": {
      "text/plain": [
       "'E:\\\\ml\\\\3.1 Computer-Vision-with-Python\\\\Computer-Vision-with-Python'"
      ]
     },
     "execution_count": 11,
     "metadata": {},
     "output_type": "execute_result"
    }
   ],
   "source": [
    "pwd"
   ]
  },
  {
   "cell_type": "code",
   "execution_count": null,
   "metadata": {},
   "outputs": [],
   "source": []
  }
 ],
 "metadata": {
  "kernelspec": {
   "display_name": "Python 3",
   "language": "python",
   "name": "python3"
  },
  "language_info": {
   "codemirror_mode": {
    "name": "ipython",
    "version": 3
   },
   "file_extension": ".py",
   "mimetype": "text/x-python",
   "name": "python",
   "nbconvert_exporter": "python",
   "pygments_lexer": "ipython3",
   "version": "3.7.3"
  }
 },
 "nbformat": 4,
 "nbformat_minor": 4
}
