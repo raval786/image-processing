{
 "cells": [
  {
   "cell_type": "code",
   "execution_count": 1,
   "metadata": {},
   "outputs": [],
   "source": [
    "# for static rectangle\n",
    "\n",
    "import cv2\n",
    "\n",
    "cap = cv2.VideoCapture(0)\n",
    "\n",
    "width = int(cap.get(cv2.CAP_PROP_FRAME_WIDTH))\n",
    "height = int(cap.get(cv2.CAP_PROP_FRAME_HEIGHT))\n",
    "\n",
    "# top left corner\n",
    "x = width // 2 # it gives the integer value\n",
    "y = height // 2\n",
    "\n",
    "# width and height of a rectangle\n",
    "w = width // 4\n",
    "h = height // 4\n",
    "\n",
    "# bottom right x+w, y+h\n",
    "\n",
    "while True:\n",
    "    \n",
    "    ret,frame = cap.read()\n",
    "    \n",
    "    cv2.rectangle(frame,(x,y),(x+w,y+h), color=(0,0,255), thickness=4)\n",
    "    \n",
    "    cv2.imshow('frame',frame)\n",
    "    \n",
    "    if cv2.waitKey(1) & 0xFF ==ord('q'):\n",
    "        break\n",
    "        \n",
    "cap.release()\n",
    "cv2.destroyAllWindows()"
   ]
  },
  {
   "cell_type": "code",
   "execution_count": 4,
   "metadata": {},
   "outputs": [],
   "source": [
    "# dynamic rectangle\n",
    "\n",
    "import cv2\n",
    "\n",
    "\n",
    "\n",
    "# CALLBACK FUNCTION RECTANGLE\n",
    "def draw_rectangle(event,x,y,flags,param):\n",
    "    \n",
    "    global pt1,pt2,topLeft_clicked,botReight_clicked\n",
    "    \n",
    "    if event == cv2.EVENT_LBUTTONDOWN:\n",
    "        \n",
    "        # RESET THE RECTANGLE(it checks if rectangle all ready is there)\n",
    "        if topLeft_clicked ==True and botReight_clicked == True:\n",
    "            pt1=(0,0)\n",
    "            pt2=(0,0)\n",
    "            topLeft_clicked = False\n",
    "            botReight_clicked = False    \n",
    "            \n",
    "        if topLeft_clicked == False:\n",
    "            pt1=(x,y)\n",
    "            topLeft_clicked = True\n",
    "            \n",
    "        elif botReight_clicked ==False:\n",
    "            pt2=(x,y)\n",
    "            botReight_clicked = True\n",
    "\n",
    "# GLOBAL VARIABLES\n",
    "pt1=(0,0)\n",
    "pt2=(0,0)\n",
    "topLeft_clicked = False\n",
    "botReight_clicked = False\n",
    "\n",
    "# CONNECT TO CALLBACK\n",
    "cap = cv2.VideoCapture(0)\n",
    "\n",
    "cv2.namedWindow('test')\n",
    "cv2.setMouseCallback('test',draw_rectangle) # Bind draw_rectangle function to mouse cliks\n",
    "\n",
    "while True:\n",
    "    #capture frame by frame and return tupple\n",
    "    ret,frame = cap.read()\n",
    "    \n",
    "    # drawing on the frame based on the global variables\n",
    "    if topLeft_clicked:\n",
    "        cv2.circle(frame,center=pt1,radius=5,color=(0,0,255),thickness=-1)\n",
    "        \n",
    "    if topLeft_clicked and botReight_clicked:\n",
    "        cv2.rectangle(frame,pt1,pt2,color=(0,0,255),thickness=3)\n",
    "    \n",
    "    cv2.imshow('test',frame)\n",
    "    \n",
    "    if cv2.waitKey(1) & 0xFF ==ord('q'):\n",
    "        break\n",
    "        \n",
    "cap.release()\n",
    "cv2.destroyAllWindows()"
   ]
  },
  {
   "cell_type": "code",
   "execution_count": 2,
   "metadata": {},
   "outputs": [
    {
     "data": {
      "text/plain": [
       "5.0"
      ]
     },
     "execution_count": 2,
     "metadata": {},
     "output_type": "execute_result"
    }
   ],
   "source": [
    "10/2"
   ]
  },
  {
   "cell_type": "code",
   "execution_count": 3,
   "metadata": {},
   "outputs": [
    {
     "data": {
      "text/plain": [
       "5"
      ]
     },
     "execution_count": 3,
     "metadata": {},
     "output_type": "execute_result"
    }
   ],
   "source": [
    "10//2"
   ]
  },
  {
   "cell_type": "code",
   "execution_count": null,
   "metadata": {},
   "outputs": [],
   "source": []
  }
 ],
 "metadata": {
  "kernelspec": {
   "display_name": "Python 3",
   "language": "python",
   "name": "python3"
  },
  "language_info": {
   "codemirror_mode": {
    "name": "ipython",
    "version": 3
   },
   "file_extension": ".py",
   "mimetype": "text/x-python",
   "name": "python",
   "nbconvert_exporter": "python",
   "pygments_lexer": "ipython3",
   "version": "3.7.3"
  }
 },
 "nbformat": 4,
 "nbformat_minor": 4
}
